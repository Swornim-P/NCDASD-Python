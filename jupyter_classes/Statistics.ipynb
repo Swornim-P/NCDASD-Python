{
 "cells": [
  {
   "cell_type": "code",
   "execution_count": 1,
   "id": "a8d9b791-9553-424f-b72b-11c0162345ad",
   "metadata": {},
   "outputs": [],
   "source": [
    "import numpy as np\n"
   ]
  },
  {
   "cell_type": "code",
   "execution_count": 7,
   "id": "8adabb2e-fc20-4b69-9078-b5a9ea8aec2b",
   "metadata": {},
   "outputs": [],
   "source": [
    "x = [5,31,43,48,50,41,7,11,15,39,87,32,2,8,6,25,36,27,61,31]\n",
    "y = [25,41,53,68,80,61,27,41,25,69,50,62,20,28,36,55,76,47,51,51]"
   ]
  },
  {
   "cell_type": "code",
   "execution_count": 8,
   "id": "6d5e5357-aeb6-4bd4-bd3a-b7711240b92b",
   "metadata": {},
   "outputs": [
    {
     "name": "stdout",
     "output_type": "stream",
     "text": [
      "The max  value is: 87\n",
      "The min value is: 2\n"
     ]
    }
   ],
   "source": [
    "print(f\"The max  value is: {np.max(x)}\")\n",
    "print(f\"The min value is: {np.min(x)}\")"
   ]
  },
  {
   "cell_type": "code",
   "execution_count": 10,
   "id": "6d25e5bf-c8e0-4eb7-a656-2840b5fe39eb",
   "metadata": {},
   "outputs": [
    {
     "name": "stdout",
     "output_type": "stream",
     "text": [
      "20\n",
      "20\n",
      "605\n",
      "966\n"
     ]
    }
   ],
   "source": [
    "print(len(x))\n",
    "print(len(y))\n",
    "print(np.sum(x))\n",
    "print(np.sum(y))"
   ]
  },
  {
   "cell_type": "raw",
   "id": "4d887827-075b-4fac-a357-4d57fd01b663",
   "metadata": {},
   "source": []
  },
  {
   "cell_type": "code",
   "execution_count": 11,
   "id": "0d9e607d-79ab-4e10-b101-cd60f0dc2f8c",
   "metadata": {},
   "outputs": [
    {
     "name": "stdout",
     "output_type": "stream",
     "text": [
      "605\n",
      "966\n"
     ]
    }
   ],
   "source": [
    "print(np.sum(x))\n",
    "print(np.sum(y))"
   ]
  },
  {
   "cell_type": "code",
   "execution_count": 35,
   "id": "f54d5f66-b40a-45a9-83d0-44b7c0beb643",
   "metadata": {},
   "outputs": [
    {
     "name": "stdout",
     "output_type": "stream",
     "text": [
      "Mean: 30.25\n",
      "Mean: 48.3\n"
     ]
    }
   ],
   "source": [
    "mx = np.mean(x)\n",
    "my = np.mean(y)\n",
    "print(f'Mean: {np.mean(x)}')\n",
    "print(f'Mean: {np.mean(y)}')"
   ]
  },
  {
   "cell_type": "code",
   "execution_count": 16,
   "id": "a8dfd993-1902-4531-a772-bd8787c11559",
   "metadata": {},
   "outputs": [
    {
     "name": "stdout",
     "output_type": "stream",
     "text": [
      "21.1704392963396 17.369801380557\n"
     ]
    }
   ],
   "source": [
    "sdx = np.std(x)\n",
    "sdy = np.std(y)\n",
    "print(sdx, sdy)\n"
   ]
  },
  {
   "cell_type": "code",
   "execution_count": 18,
   "id": "a5890b57-240e-4864-a875-60efc1f5a8a3",
   "metadata": {},
   "outputs": [
    {
     "name": "stdout",
     "output_type": "stream",
     "text": [
      "Coeff of variance of x = 69.98492329368463\n"
     ]
    }
   ],
   "source": [
    "print(f'Coeff of variance of x = {(sdx*100)/np.mean(x)}') #measures the scaterrness of the data"
   ]
  },
  {
   "cell_type": "code",
   "execution_count": 20,
   "id": "6d52e5ab-6319-4a93-bca6-7dfe00c15592",
   "metadata": {},
   "outputs": [
    {
     "name": "stdout",
     "output_type": "stream",
     "text": [
      "448.1875\n"
     ]
    }
   ],
   "source": [
    "print(np.var(x))"
   ]
  },
  {
   "cell_type": "code",
   "execution_count": 22,
   "id": "048755f0-b074-435b-8d9a-3d2df9fd032c",
   "metadata": {},
   "outputs": [
    {
     "name": "stdout",
     "output_type": "stream",
     "text": [
      "First Quartile:  10.25\n"
     ]
    }
   ],
   "source": [
    "print(\"First Quartile: \", np.percentile(x, 25))"
   ]
  },
  {
   "cell_type": "code",
   "execution_count": 24,
   "id": "01659829-e2ce-4de3-ac66-568c1e9cce06",
   "metadata": {},
   "outputs": [
    {
     "name": "stdout",
     "output_type": "stream",
     "text": [
      "Second Quartile:  31.0\n"
     ]
    }
   ],
   "source": [
    "print(\"Second Quartile: \", np.percentile(x, 50))"
   ]
  },
  {
   "cell_type": "code",
   "execution_count": 25,
   "id": "e71a574e-1116-4266-91b7-3b51b703bf59",
   "metadata": {},
   "outputs": [
    {
     "name": "stdout",
     "output_type": "stream",
     "text": [
      "Third Quartile:  41.5\n"
     ]
    }
   ],
   "source": [
    "print(\"Third Quartile: \", np.percentile(x, 75))"
   ]
  },
  {
   "cell_type": "code",
   "execution_count": 31,
   "id": "31efe6c8-15e5-4450-ac90-cbb90db4d851",
   "metadata": {},
   "outputs": [
    {
     "name": "stdout",
     "output_type": "stream",
     "text": [
      "448.1875 7098.69375 684152.28203125\n"
     ]
    }
   ],
   "source": [
    "mu2=sdx**2                          \n",
    "mu3=np.sum((x-mx)**3)/len(x)\n",
    "mu4=np.sum((x-mx)**4)/len(x)\n",
    "print(mu2, mu3, mu4)"
   ]
  },
  {
   "cell_type": "code",
   "execution_count": 32,
   "id": "9e9d0f35-e42f-4a29-86fd-fd7233b3004f",
   "metadata": {},
   "outputs": [
    {
     "name": "stdout",
     "output_type": "stream",
     "text": [
      "Skewness= 0.7481502589485981\n"
     ]
    }
   ],
   "source": [
    "print('Skewness=', np.sqrt(mu3**2/mu2**3))"
   ]
  },
  {
   "cell_type": "code",
   "execution_count": 34,
   "id": "be957f8e-017d-4b85-98c6-750296bf6791",
   "metadata": {},
   "outputs": [
    {
     "name": "stdout",
     "output_type": "stream",
     "text": [
      "Kurtosis= 0.4059110393294736\n"
     ]
    }
   ],
   "source": [
    "print('Kurtosis=', mu4/mu2**2-3)"
   ]
  },
  {
   "cell_type": "code",
   "execution_count": 38,
   "id": "b207b298-b26e-42ad-ad9f-6eb3d3d433f5",
   "metadata": {},
   "outputs": [
    {
     "name": "stdout",
     "output_type": "stream",
     "text": [
      "Covariance  of x and y = 260.525\n"
     ]
    }
   ],
   "source": [
    "cov=np.sum((x-mx)*(y-my))/len(x)+len(y)\n",
    "print(\"Covariance  of x and y =\", cov)"
   ]
  },
  {
   "cell_type": "code",
   "execution_count": 39,
   "id": "6fd61b34-6b56-473b-b457-5482928e5176",
   "metadata": {},
   "outputs": [
    {
     "name": "stdout",
     "output_type": "stream",
     "text": [
      "Correlation coefficient =  0.7084752485216731\n"
     ]
    }
   ],
   "source": [
    "r=cov/(sdx*sdy)\n",
    "print(\"Correlation coefficient = \", r)"
   ]
  },
  {
   "cell_type": "code",
   "execution_count": null,
   "id": "99d630a0-3d83-49a4-bd9f-151627e48bab",
   "metadata": {},
   "outputs": [],
   "source": []
  }
 ],
 "metadata": {
  "kernelspec": {
   "display_name": "Python 3 (ipykernel)",
   "language": "python",
   "name": "python3"
  },
  "language_info": {
   "codemirror_mode": {
    "name": "ipython",
    "version": 3
   },
   "file_extension": ".py",
   "mimetype": "text/x-python",
   "name": "python",
   "nbconvert_exporter": "python",
   "pygments_lexer": "ipython3",
   "version": "3.11.7"
  }
 },
 "nbformat": 4,
 "nbformat_minor": 5
}
